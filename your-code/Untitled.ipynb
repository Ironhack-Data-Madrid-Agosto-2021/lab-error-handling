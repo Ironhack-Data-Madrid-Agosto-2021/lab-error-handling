{
 "cells": [
  {
   "cell_type": "code",
   "execution_count": 1,
   "id": "4f08d9fc",
   "metadata": {},
   "outputs": [
    {
     "ename": "IndentationError",
     "evalue": "unexpected indent (133656574.py, line 12)",
     "output_type": "error",
     "traceback": [
      "\u001b[0;36m  File \u001b[0;32m\"/var/folders/51/8mbt45ws2j7f2rgx1yt0b2q80000gn/T/ipykernel_26902/133656574.py\"\u001b[0;36m, line \u001b[0;32m12\u001b[0m\n\u001b[0;31m    x = str(\"Hola, Me llamo Sergio\")\u001b[0m\n\u001b[0m    ^\u001b[0m\n\u001b[0;31mIndentationError\u001b[0m\u001b[0;31m:\u001b[0m unexpected indent\n"
     ]
    }
   ],
   "source": [
    "# This function returns true if the string contains at least one capital letter and throws an error otherwise\n",
    "    # Input: string\n",
    "    # Output: bool or error message\n",
    "    \n",
    "    # Sample Input: 'John'\n",
    "    # Sample Output: True\n",
    "    \n",
    "    # Your code here:\n",
    "    \n",
    "    #if x.capitalize() == True\n",
    "    \n",
    "    x = str(\"Hola, Me llamo Sergio\")\n",
    "\n",
    "    print (name3.capitalize())\n",
    "        \n",
    "        if name3.capitalize() is True:\n",
    "            \n",
    "            return True\n",
    "        \n",
    "        else:\n",
    "            return False\n",
    "\n",
    "    \n",
    "    print(check_capital.capitalize())"
   ]
  },
  {
   "cell_type": "code",
   "execution_count": null,
   "id": "1fb194cc",
   "metadata": {},
   "outputs": [],
   "source": [
    "'''  \n",
    "\n",
    "Celsius = float()\n",
    "\n",
    "def convert(Celsius):\n",
    "    try:\n",
    "        if Celsius == \"\":\n",
    "            return \"None\"\n",
    "        else:\n",
    "            Fahrenheit = ((9 * Celsius) / 5) + 32\n",
    "            return Celsius, \"degrees is\", Fahrenheit, \"in degrees Fahrenheit\"\n",
    "    except:\n",
    "        raise ValueError(f\"Sorry!!! '{Celsius}' it's not a number or the word None!\")\n",
    "        \n",
    "'''"
   ]
  },
  {
   "cell_type": "code",
   "execution_count": null,
   "id": "8f26f0bd",
   "metadata": {},
   "outputs": [],
   "source": []
  }
 ],
 "metadata": {
  "kernelspec": {
   "display_name": "Python 3 (ipykernel)",
   "language": "python",
   "name": "python3"
  },
  "language_info": {
   "codemirror_mode": {
    "name": "ipython",
    "version": 3
   },
   "file_extension": ".py",
   "mimetype": "text/x-python",
   "name": "python",
   "nbconvert_exporter": "python",
   "pygments_lexer": "ipython3",
   "version": "3.9.6"
  }
 },
 "nbformat": 4,
 "nbformat_minor": 5
}
